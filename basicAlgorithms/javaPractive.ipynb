{
 "cells": [
  {
   "cell_type": "code",
   "execution_count": 2,
   "metadata": {},
   "outputs": [],
   "source": [
    "import java.util.Iterator;"
   ]
  },
  {
   "cell_type": "code",
   "execution_count": 4,
   "metadata": {},
   "outputs": [],
   "source": [
    "String string[] = {\"Rahul\", \"Beniwal\"}"
   ]
  },
  {
   "cell_type": "code",
   "execution_count": 8,
   "metadata": {},
   "outputs": [
    {
     "ename": "CompilationException",
     "evalue": "",
     "output_type": "error",
     "traceback": [
      "\u001b[1m\u001b[30m|   \u001b[1m\u001b[30m\u001b[0m\u001b[1m\u001b[30m\u001b[41mstring.next\u001b[0m\u001b[1m\u001b[30m()\u001b[0m",
      "\u001b[1m\u001b[31mcannot find symbol\u001b[0m",
      "\u001b[1m\u001b[31m  symbol:   method next()\u001b[0m",
      ""
     ]
    }
   ],
   "source": [
    "string.next()"
   ]
  },
  {
   "cell_type": "code",
   "execution_count": 12,
   "metadata": {},
   "outputs": [
    {
     "ename": "CompilationException",
     "evalue": "",
     "output_type": "error",
     "traceback": [
      "\u001b[1m\u001b[30m|   \u001b[1m\u001b[30mString iter = \u001b[0m\u001b[1m\u001b[30m\u001b[41mnew Iterator<>()\u001b[0m\u001b[1m\u001b[30m;\u001b[0m",
      "\u001b[1m\u001b[31mjava.util.Iterator is abstract; cannot be instantiated\u001b[0m",
      "",
      "\u001b[1m\u001b[30m|   \u001b[1m\u001b[30mString iter = new \u001b[0m\u001b[1m\u001b[30m\u001b[41mIterator<>\u001b[0m\u001b[1m\u001b[30m();\u001b[0m",
      "\u001b[1m\u001b[31mincompatible types: cannot infer type arguments for java.util.Iterator<>\u001b[0m",
      "\u001b[1m\u001b[31m    reason: no instance(s) of type variable(s) E exist so that java.util.Iterator<E> conforms to java.lang.String\u001b[0m",
      ""
     ]
    }
   ],
   "source": [
    "String iter = new Iterator<>()"
   ]
  },
  {
   "cell_type": "code",
   "execution_count": 14,
   "metadata": {},
   "outputs": [],
   "source": [
    "import java.util.ArrayList;"
   ]
  },
  {
   "cell_type": "code",
   "execution_count": 43,
   "metadata": {},
   "outputs": [],
   "source": [
    "ArrayList<String> cars = new ArrayList<>()"
   ]
  },
  {
   "cell_type": "code",
   "execution_count": 44,
   "metadata": {},
   "outputs": [
    {
     "data": {
      "text/plain": [
       "true"
      ]
     },
     "execution_count": 44,
     "metadata": {},
     "output_type": "execute_result"
    }
   ],
   "source": [
    "cars.add(\"Volvo\");\n",
    "cars.add(\"BMW\");\n",
    "cars.add(\"Ford\");\n",
    "cars.add(\"Mazda\")"
   ]
  },
  {
   "cell_type": "code",
   "execution_count": 90,
   "metadata": {},
   "outputs": [],
   "source": [
    "Iterator<String> it = cars.iterator()"
   ]
  },
  {
   "cell_type": "code",
   "execution_count": 51,
   "metadata": {},
   "outputs": [],
   "source": [
    "while(it.hasNext())\n",
    "{\n",
    "    String s = it.next();\n",
    "    if(s.length() == 5)\n",
    "        it.remove();\n",
    "}"
   ]
  },
  {
   "cell_type": "raw",
   "metadata": {},
   "source": [
    "import java.io.Scanner;"
   ]
  },
  {
   "cell_type": "code",
   "execution_count": 74,
   "metadata": {},
   "outputs": [],
   "source": [
    "Scanner in = new Scanner(System.in)"
   ]
  },
  {
   "cell_type": "markdown",
   "metadata": {},
   "source": [
    "int a = in.nextInt();\n"
   ]
  },
  {
   "cell_type": "code",
   "execution_count": 77,
   "metadata": {},
   "outputs": [
    {
     "name": "stdout",
     "output_type": "stream",
     "text": [
      "Rahul Beniwal\n"
     ]
    }
   ],
   "source": [
    "String b = in.nextLine();\n"
   ]
  },
  {
   "cell_type": "code",
   "execution_count": 79,
   "metadata": {},
   "outputs": [
    {
     "name": "stdout",
     "output_type": "stream",
     "text": [
      "00\n"
     ]
    }
   ],
   "source": [
    "float c = in.nextFloat();\n"
   ]
  },
  {
   "cell_type": "code",
   "execution_count": 81,
   "metadata": {},
   "outputs": [
    {
     "name": "stdout",
     "output_type": "stream",
     "text": [
      "75952\n"
     ]
    }
   ],
   "source": [
    "long d = in.nextLong();\n"
   ]
  },
  {
   "cell_type": "code",
   "execution_count": 83,
   "metadata": {},
   "outputs": [
    {
     "name": "stdout",
     "output_type": "stream",
     "text": [
      "\n",
      "\n",
      "false\n"
     ]
    }
   ],
   "source": [
    "boolean e = in.nextBoolean();"
   ]
  },
  {
   "cell_type": "code",
   "execution_count": 99,
   "metadata": {},
   "outputs": [
    {
     "ename": "CompilationException",
     "evalue": "",
     "output_type": "error",
     "traceback": [
      "\u001b[1m\u001b[30m|   \u001b[1m\u001b[30mIterator<Integer>  iter = \u001b[0m\u001b[1m\u001b[30m\u001b[41mia.iterator\u001b[0m\u001b[1m\u001b[30m();\u001b[0m",
      "\u001b[1m\u001b[31mcannot find symbol\u001b[0m",
      "\u001b[1m\u001b[31m  symbol:   method iterator()\u001b[0m",
      ""
     ]
    }
   ],
   "source": [
    "Integer  []ia = {1,2,3,4,5,6};\n",
    "Iterator<Integer>  iter = ia.iterator();"
   ]
  },
  {
   "cell_type": "code",
   "execution_count": 100,
   "metadata": {},
   "outputs": [
    {
     "ename": "CompilationException",
     "evalue": "",
     "output_type": "error",
     "traceback": [
      "\u001b[1m\u001b[30m|   \u001b[1m\u001b[30m\u001b[0m\u001b[1m\u001b[30m\u001b[41miter\u001b[0m\u001b[1m\u001b[30m.next()\u001b[0m",
      "\u001b[1m\u001b[31mcannot find symbol\u001b[0m",
      "\u001b[1m\u001b[31m  symbol:   variable iter\u001b[0m",
      ""
     ]
    }
   ],
   "source": [
    "iter.next()"
   ]
  },
  {
   "cell_type": "code",
   "execution_count": 103,
   "metadata": {},
   "outputs": [
    {
     "name": "stdout",
     "output_type": "stream",
     "text": [
      "1\n",
      "2\n",
      "3\n",
      "4\n",
      "5\n",
      "6\n"
     ]
    }
   ],
   "source": [
    "int a[] = new int[]{1,2,3,4,5,6};\n",
    "for(int a : a)\n",
    "    System.out.println(a);"
   ]
  },
  {
   "cell_type": "code",
   "execution_count": 109,
   "metadata": {},
   "outputs": [
    {
     "name": "stdout",
     "output_type": "stream",
     "text": [
      "Rahul\n",
      "Beniwal\n",
      "Kuldeep\n"
     ]
    }
   ],
   "source": [
    "ArrayList<String> names = new  ArrayList<>();\n",
    "names.add(\"Rahul\");\n",
    "names.add(\"Beniwal\");\n",
    "names.add(\"Kuldeep\");\n",
    "Iterator<String> iter = names.iterator();\n",
    "while(iter.hasNext())\n",
    "{\n",
    "    System.out.println(iter.next());\n",
    "}"
   ]
  },
  {
   "cell_type": "code",
   "execution_count": 114,
   "metadata": {},
   "outputs": [],
   "source": [
    "ArrayList<Double> data  = new ArrayList<>();\n",
    "data.add(1.11);\n",
    "data.add(-1.15);\n",
    "data.add(-99.1);\n",
    "Iterator<Double> walk = data.iterator();\n",
    "while(walk.hasNext())\n",
    "{\n",
    "    if(walk.next() < 0.0)\n",
    "        walk.remove();\n",
    "}"
   ]
  },
  {
   "cell_type": "code",
   "execution_count": 111,
   "metadata": {},
   "outputs": [],
   "source": [
    "import java.util.Iterator;"
   ]
  },
  {
   "cell_type": "code",
   "execution_count": 120,
   "metadata": {},
   "outputs": [],
   "source": [
    "import java.lang.StringBuffer;"
   ]
  },
  {
   "cell_type": "code",
   "execution_count": 146,
   "metadata": {},
   "outputs": [],
   "source": [
    "StringBuffer a = new StringBuffer(\"Rahul\");"
   ]
  },
  {
   "cell_type": "code",
   "execution_count": 155,
   "metadata": {},
   "outputs": [],
   "source": [
    "import java.util.Arrays;"
   ]
  },
  {
   "cell_type": "code",
   "execution_count": 169,
   "metadata": {},
   "outputs": [
    {
     "name": "stdout",
     "output_type": "stream",
     "text": [
      "l\n",
      "u\n",
      "h\n",
      "a\n",
      "R\n"
     ]
    },
    {
     "ename": "CompilationException",
     "evalue": "",
     "output_type": "error",
     "traceback": [
      "\u001b[1m\u001b[30m|   \u001b[1m\u001b[30m        \u001b[0m\u001b[1m\u001b[30m\u001b[41m\u001b[0m\u001b[1m\u001b[30m}\u001b[0m",
      "\u001b[1m\u001b[31millegal start of statement\u001b[0m",
      ""
     ]
    }
   ],
   "source": [
    "StringBuffer a = new StringBuffer(\"Rahul\");\n",
    "        for(char c : a.reverse().toString().toCharArray())\n",
    "                System.out.println(c);\n",
    "        }"
   ]
  }
 ],
 "metadata": {
  "kernelspec": {
   "display_name": "Java",
   "language": "java",
   "name": "java"
  },
  "language_info": {
   "codemirror_mode": "java",
   "file_extension": ".jshell",
   "mimetype": "text/x-java-source",
   "name": "Java",
   "pygments_lexer": "java",
   "version": "11.0.10+9-Ubuntu-0ubuntu1.20.04"
  }
 },
 "nbformat": 4,
 "nbformat_minor": 4
}
